{
 "cells": [
  {
   "cell_type": "markdown",
   "metadata": {},
   "source": [
    "# **Juypter \"GUI\" using ipywidgets**\n",
    "\n",
    "helpful links:\n",
    "\n",
    "https://towardsdatascience.com/bring-your-jupyter-notebook-to-life-with-interactive-widgets-bc12e03f0916\n",
    "\n",
    "https://towardsdatascience.com/interactive-spreadsheets-in-jupyter-32ab6ec0f4ff"
   ]
  },
  {
   "cell_type": "code",
   "execution_count": null,
   "metadata": {},
   "outputs": [],
   "source": [
    "import ipywidgets as widgets\n",
    "\n",
    "import pandas as pd\n",
    "import numpy as np"
   ]
  },
  {
   "cell_type": "markdown",
   "metadata": {},
   "source": [
    "## **Filtering a list**\n",
    "taken from https://towardsdatascience.com/bring-your-jupyter-notebook-to-life-with-interactive-widgets-bc12e03f0916"
   ]
  },
  {
   "cell_type": "code",
   "execution_count": null,
   "metadata": {},
   "outputs": [],
   "source": [
    "url = r\"https://data.london.gov.uk/download/number-international-visitors-london/b1e0f953-4c8a-4b45-95f5-e0d143d5641e/international-visitors-london-raw.csv\"\n",
    "df_london = pd.read_csv(url, encoding = \"ISO-8859-1\")"
   ]
  },
  {
   "cell_type": "code",
   "execution_count": null,
   "metadata": {},
   "outputs": [],
   "source": [
    "ALL = 'ALL'\n",
    "def unique_sorted_values_plus_ALL(array):\n",
    "    unique = array.unique().tolist()\n",
    "    unique.sort()\n",
    "    unique.insert(0, ALL)\n",
    "    return unique"
   ]
  },
  {
   "cell_type": "code",
   "execution_count": null,
   "metadata": {},
   "outputs": [],
   "source": [
    "dropdown_year = widgets.Dropdown(options=unique_sorted_values_plus_ALL(df_london.year))\n",
    "\n",
    "output_year = widgets.Output()\n",
    "\n",
    "def dropdown_year_eventhandler(change):\n",
    "    output_year.clear_output()        \n",
    "    with output_year:\n",
    "        if (change.new == ALL):\n",
    "            display(df_london)\n",
    "        else:\n",
    "            display(df_london[df_london.year == change.new])\n",
    "        \n",
    "dropdown_year.observe(dropdown_year_eventhandler, names='value')\n",
    "display(dropdown_year)"
   ]
  },
  {
   "cell_type": "code",
   "execution_count": null,
   "metadata": {},
   "outputs": [],
   "source": [
    "display(output_year)"
   ]
  },
  {
   "cell_type": "markdown",
   "metadata": {},
   "source": [
    "-----\n",
    "# **Select file using a button and askopenfilename**\n",
    "\n",
    "code from: https://codereview.stackexchange.com/questions/162920/file-selection-button-for-jupyter-notebook\n",
    "        \n",
    "small bugfix if no file selected"
   ]
  },
  {
   "cell_type": "code",
   "execution_count": null,
   "metadata": {},
   "outputs": [],
   "source": [
    "import traitlets\n",
    "from ipywidgets import widgets\n",
    "from IPython.display import display\n",
    "from tkinter import Tk, filedialog\n",
    "\n",
    "\n",
    "class SelectFilesButton(widgets.Button):\n",
    "    \"\"\"A file widget that leverages tkinter.filedialog.\"\"\"\n",
    "\n",
    "    def __init__(self):\n",
    "        super(SelectFilesButton, self).__init__()\n",
    "        # Add the selected_files trait\n",
    "        self.add_traits(files=traitlets.traitlets.List())\n",
    "        # Create the button.\n",
    "        self.description = \"Select Files\"\n",
    "        self.icon = \"square-o\"\n",
    "        self.style.button_color = \"orange\"\n",
    "        # Set on click behavior.\n",
    "        self.on_click(self.select_files)\n",
    "\n",
    "    @staticmethod\n",
    "    def select_files(b):\n",
    "        \"\"\"Generate instance of tkinter.filedialog.\n",
    "\n",
    "        Parameters\n",
    "        ----------\n",
    "        b : obj:\n",
    "            An instance of ipywidgets.widgets.Button \n",
    "        \"\"\"\n",
    "        # Create Tk root\n",
    "        root = Tk()\n",
    "        # Hide the main window\n",
    "        root.withdraw()\n",
    "        # Raise the root to the top of all windows.\n",
    "        root.call('wm', 'attributes', '.', '-topmost', True)\n",
    "        # List of selected fileswill be set to b.value\n",
    "        _files =filedialog.askopenfilename(multiple=True)\n",
    "        if _files:\n",
    "            b.files = _files\n",
    "\n",
    "            b.description = \"Files Selected\"\n",
    "            b.icon = \"check-square-o\"\n",
    "            b.style.button_color = \"green\"\n",
    "        else:\n",
    "            b.files = []\n",
    "            b.description = \"File selection aborded\"\n",
    "            b.icon = \"square-o\"\n",
    "            b.style.button_color = \"red\""
   ]
  },
  {
   "cell_type": "code",
   "execution_count": null,
   "metadata": {},
   "outputs": [],
   "source": [
    "my_button = SelectFilesButton()\n",
    "my_button # This will display the button in the context of Jupyter Notebook"
   ]
  },
  {
   "cell_type": "code",
   "execution_count": null,
   "metadata": {},
   "outputs": [],
   "source": [
    "# In a different cell of the same Jupyter Notebook You can access the file list by using the following:\n",
    "my_button.files"
   ]
  },
  {
   "cell_type": "markdown",
   "metadata": {},
   "source": [
    "---\n",
    "## **Simple Slider using interact**"
   ]
  },
  {
   "cell_type": "code",
   "execution_count": null,
   "metadata": {},
   "outputs": [],
   "source": [
    "from ipywidgets import interact\n",
    "import matplotlib.pyplot as plt"
   ]
  },
  {
   "cell_type": "code",
   "execution_count": null,
   "metadata": {},
   "outputs": [],
   "source": [
    "output_vector_plot = widgets.Output()\n",
    "\n",
    "@widgets.interact(mag1=(0, 100), ang1=(0, 360), mag2=(0, 100), ang2=(0, 360))\n",
    "def plot_vectors(mag1=1, ang1=0, mag2=1, ang2=90):\n",
    "    with output_vector_plot:\n",
    "        output_vector_plot.clear_output()\n",
    "        fig = plt.figure()\n",
    "        ax = fig.add_subplot(1, 1, 1)\n",
    "        vec1 = [np.cos(ang1*np.pi/180)*mag1,np.sin(ang1*np.pi/180)*mag1]\n",
    "        vec2 = [np.cos(ang2*np.pi/180)*mag2,np.sin(ang2*np.pi/180)*mag1]\n",
    "\n",
    "        ax.arrow(0,0, vec1[0], vec1[1], width=0.01, color='blue')\n",
    "        ax.arrow(0,0,vec2[0], vec2[1], width=0.01, color='red')\n",
    "        plt.axis('square')\n",
    "        plt.draw()\n",
    "        \n",
    "        dot_product = np.dot(vec1/np.linalg.norm(vec1), vec2/np.linalg.norm(vec2))\n",
    "        print(dot_product)\n",
    "        angle = np.arccos(dot_product)\n",
    "        print(f'Angle between: {angle*180/np.pi:3.1f} °')\n",
    "#interact(plot_vectors, mag1=w_mag1.value, ang1=w_ang1.value);\n",
    "display(output_vector_plot)"
   ]
  },
  {
   "cell_type": "markdown",
   "metadata": {},
   "source": [
    "following is from https://kapernikov.com/ipywidgets-with-matplotlib/"
   ]
  },
  {
   "cell_type": "code",
   "execution_count": null,
   "metadata": {},
   "outputs": [],
   "source": [
    "def say_my_name(name):\n",
    "    \"\"\"\n",
    "    Print the current widget value in short sentence\n",
    "    \"\"\"\n",
    "    print(f'My name is {name}')\n",
    "     \n",
    "widgets.interact(say_my_name, name=[\"Jim\", \"Emma\", \"Bond\"]);"
   ]
  },
  {
   "cell_type": "markdown",
   "metadata": {},
   "source": [
    "---\n",
    "# **Designing an electrical field**\n",
    "Dashboard example"
   ]
  },
  {
   "cell_type": "code",
   "execution_count": null,
   "metadata": {},
   "outputs": [],
   "source": [
    "import numpy as np\n",
    "def elec_field(x, y, x_coords, y_coords, charges):\n",
    "    \"\"\"Calculates the electrical field based on two charges\"\"\"\n",
    "    # this function was taken from https://gist.github.com/alexlib/bac36d4c0db9f28fb4b4dbe7023b705d\n",
    "    Ex = np.zeros_like(x)\n",
    "    Ey = np.zeros_like(x)\n",
    "    for x0, y0, q in zip(x_coords, y_coords, charges):\n",
    "        R = np.sqrt((x - x0)**2 + (y - y0)**2) + 1e-6\n",
    "        Ex += q*(x - x0)/R**3\n",
    "        Ey += q*(y - y0)/R**3\n",
    "    return Ex, Ey\n",
    "\n",
    "\n",
    "def build_efield(x0, y0, x1, y1):\n",
    "    y, x = np.mgrid[-3:3:21j, -3:3:21j] # coordinate grid\n",
    "    _E1 = elec_field(x, y, [x0, x1], [0, 0], [1, -1])\n",
    "    E1 = np.stack(_E1, axis=-1)\n",
    "    return E1"
   ]
  },
  {
   "cell_type": "code",
   "execution_count": null,
   "metadata": {},
   "outputs": [],
   "source": [
    "source_slider1 = widgets.FloatSlider(min=-1, max=0, value=-0.5, description='x0')\n",
    "source_slider2 = widgets.FloatSlider(min=0, max=1, value=0.5, description='x1')\n",
    "\n",
    "btn_apply = widgets.Button(description='Apply')\n",
    "def btn_eventhandler(obj):\n",
    "    with output_efield:\n",
    "        output_efield.clear_output()\n",
    "        x0 = source_slider1.value\n",
    "        x1 = source_slider2.value\n",
    "        E = build_efield(x0, 0, x1, 0)\n",
    "        Emag = np.linalg.norm(E, axis=-1)\n",
    "        plt.figure()\n",
    "        plt.contourf(x, y, np.log10(Emag), cmap=\"autumn\")\n",
    "        plt.show()\n",
    "    \n",
    "btn_apply.on_click(btn_eventhandler)\n",
    "\n",
    "output_efield = widgets.Output()\n",
    "\n",
    "_hbox = widgets.HBox([source_slider1, source_slider2])\n",
    "_vbox = widgets.VBox([_hbox, btn_apply])\n",
    "\n",
    "\n",
    "tab = widgets.Tab([_vbox, output_efield])\n",
    "tab.set_title(0, 'Settings')\n",
    "tab.set_title(1, 'Plot')"
   ]
  },
  {
   "cell_type": "markdown",
   "metadata": {},
   "source": [
    "Plot is shown in second tab. Not user friendly but fair enough to show the usage of tabs"
   ]
  },
  {
   "cell_type": "code",
   "execution_count": null,
   "metadata": {},
   "outputs": [],
   "source": [
    "display(tab)"
   ]
  },
  {
   "cell_type": "code",
   "execution_count": null,
   "metadata": {},
   "outputs": [],
   "source": []
  }
 ],
 "metadata": {
  "kernelspec": {
   "display_name": "Python 3",
   "language": "python",
   "name": "python3"
  },
  "language_info": {
   "codemirror_mode": {
    "name": "ipython",
    "version": 3
   },
   "file_extension": ".py",
   "mimetype": "text/x-python",
   "name": "python",
   "nbconvert_exporter": "python",
   "pygments_lexer": "ipython3",
   "version": "3.7.9"
  }
 },
 "nbformat": 4,
 "nbformat_minor": 4
}
